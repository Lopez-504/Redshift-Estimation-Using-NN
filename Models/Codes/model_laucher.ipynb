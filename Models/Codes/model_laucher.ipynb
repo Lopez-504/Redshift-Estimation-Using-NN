{
 "cells": [
  {
   "cell_type": "markdown",
   "id": "f912127f",
   "metadata": {},
   "source": [
    "# Modelo TA1:\n",
    "\n",
    "- Nuestro primer modelo en serio"
   ]
  },
  {
   "cell_type": "markdown",
   "id": "5f8ae02b",
   "metadata": {},
   "source": [
    "## Pre-procesamiento"
   ]
  },
  {
   "cell_type": "markdown",
   "id": "66b9347e",
   "metadata": {},
   "source": [
    "Cargar librerías"
   ]
  },
  {
   "cell_type": "code",
   "execution_count": 11,
   "id": "01f0d708",
   "metadata": {},
   "outputs": [],
   "source": [
    "import os\n",
    "import pandas as pd\n",
    "import numpy as np\n",
    "import tensorflow as tf\n",
    "import seaborn as sns\n",
    "import matplotlib.pyplot as plt\n",
    "\n",
    "from sklearn.model_selection import train_test_split\n",
    "from sklearn.preprocessing import StandardScaler, MinMaxScaler, RobustScaler\n",
    "from sklearn.metrics import mean_squared_error, mean_absolute_error, r2_score\n",
    "\n",
    "from tensorflow.keras.models import Sequential\n",
    "from tensorflow.keras.layers import Dense, Input, Dropout\n",
    "from tensorflow.keras.callbacks import ModelCheckpoint\n",
    "from keras.optimizers import Adam, Adagrad, RMSprop\n",
    "\n",
    "from data_utils import gen_rand_split                       # script local"
   ]
  },
  {
   "cell_type": "code",
   "execution_count": 12,
   "id": "50f92af9",
   "metadata": {},
   "outputs": [],
   "source": [
    "# Setear tema para las gráficas\n",
    "sns.set_theme(context='notebook', style='darkgrid', palette='colorblind')"
   ]
  },
  {
   "cell_type": "markdown",
   "id": "8c45b555",
   "metadata": {},
   "source": [
    "Cargar datos\n",
    "\n",
    "- Seleccionar path según input data (ver documentación sobre estos dataset)\n",
    "- Seleccionar semilla"
   ]
  },
  {
   "cell_type": "code",
   "execution_count": 2,
   "id": "00e687b7",
   "metadata": {},
   "outputs": [
    {
     "name": "stdout",
     "output_type": "stream",
     "text": [
      "Data loaded from cleanA_150k.csv\n",
      "Seed set to 42\n"
     ]
    }
   ],
   "source": [
    "# --- 1. LOAD DATA ---\n",
    "path_to_data = 'cleanA_150k.csv'\n",
    "df_raw = pd.read_csv(path_to_data)\n",
    "\n",
    "# --- 2. SEED SETTING FOR REPRODUCIBILITY ---\n",
    "SEED = 42\n",
    "np.random.seed(SEED)\n",
    "tf.random.set_seed(SEED)\n",
    "\n",
    "print(f\"Data loaded from {path_to_data}\\nSeed set to {SEED}\")\n"
   ]
  },
  {
   "cell_type": "markdown",
   "id": "70ab1b2b",
   "metadata": {},
   "source": [
    "Split y normalización:\n",
    "\n",
    "- Seleccionar porcentajes para el train/val/test split\n",
    "    - Usar la función definida en `data_utils.py`\n",
    "- Seleccionar scaler: MinMax, Standar, Robust"
   ]
  },
  {
   "cell_type": "code",
   "execution_count": 13,
   "id": "a89443da",
   "metadata": {},
   "outputs": [
    {
     "name": "stdout",
     "output_type": "stream",
     "text": [
      "Data split: Train (97488), Validation (29997), Test (22498) samples.\n",
      "Data standardized using RobustScaler\n"
     ]
    }
   ],
   "source": [
    "# train/val/test split\n",
    "val_p, test_p = 0.2, 0.15  \n",
    "X_train, X_val, X_test, y_train, y_val, y_test = gen_rand_split(df_raw, val_p, test_p, SEED=42)\n",
    "\n",
    "# Ajustar en X_train, luego trainformar los demás\n",
    "scaler_name = 'Robust'\n",
    "\n",
    "if scaler_name=='Standar':\n",
    "    scaler = StandardScaler()\n",
    "elif scaler_name=='MinMax':\n",
    "    scaler = MinMaxScaler() \n",
    "elif scaler_name=='Robust':\n",
    "    scaler=RobustScaler()\n",
    "\n",
    "# Aplicar \n",
    "X_train_scaled = scaler.fit_transform(X_train)\n",
    "X_val_scaled = scaler.transform(X_val)\n",
    "X_test_scaled = scaler.transform(X_test)\n",
    "\n",
    "print(f\"Data split: Train ({len(X_train)}), Validation ({len(X_val)}), Test ({len(X_test)}) samples.\")\n",
    "print(f\"Data standardized using {scaler_name}Scaler\")"
   ]
  },
  {
   "cell_type": "markdown",
   "id": "dd37dc1b",
   "metadata": {},
   "source": [
    "## Modelo\n",
    "\n",
    "- Definición\n",
    "- Entrenamiento\n",
    "- Evaluación"
   ]
  },
  {
   "cell_type": "code",
   "execution_count": 14,
   "id": "2b165fc9",
   "metadata": {},
   "outputs": [],
   "source": [
    "def build_fnn_model(input_shape, units_hl, rates_dl, activation, output_activation='linear',\n",
    "                                 optimizer_name='adam', learning_rate=1e-3, loss_function='mse'):\n",
    "    \"\"\"\n",
    "    Builds a Fully Connected FF NN with explicit Dropout layers.\n",
    "    input_shape: shape of the input data (tuple)\n",
    "    units_hl: list with neurons for each hidden layer (list)\n",
    "    rates_dl: list with droput rate for dropout layers (list)\n",
    "    activation: list with activation functions for each hidden layer (list)\n",
    "    output_activation: activation function for the output layer    \n",
    "    \"\"\"\n",
    "    model = Sequential()\n",
    "    \n",
    "    # Input Layer (Input shape defined here)\n",
    "    model.add(Input(shape=(input_shape,)))\n",
    "    \n",
    "    # Loop through the hidden layers\n",
    "    for i in range(len(units_hl)):\n",
    "    # 1. Add the Dense (Hidden) Layer\n",
    "        model.add(Dense(units=units_hl[i], \n",
    "                        activation=activation[i], \n",
    "                        name=f'Hidden_{i+1}'))\n",
    "    \n",
    "    # 2. Conditionally Add the Dropout Layer\n",
    "    # Only add the layer if the rate is > 0\n",
    "    if rates_dl[i] > 0.0:\n",
    "        model.add(Dropout(rate=rates_dl[i], \n",
    "                          name=f'Dropout_{i+1}'))\n",
    "\n",
    "    # Output Layer (1 unit for scalar target/regression)\n",
    "    model.add(Dense(1, activation=output_activation, name='Output_Layer'))\n",
    "\n",
    "    # Define optimizer\n",
    "    if optimizer_name=='adam':\n",
    "        optimizer = Adam(learning_rate=learning_rate)\n",
    "    elif optimizer_name=='adagrad':\n",
    "        optimizer = Adagrad(learning_rate=learning_rate)\n",
    "    elif optimizer_name=='rmsprop':\n",
    "        optimizer = RMSprop(learning_rate=learning_rate)            \n",
    "\n",
    "    # Compile the model\n",
    "    model.compile(optimizer=optimizer, loss=loss_function, metrics=['mae'])\n",
    "    return model\n",
    "\n",
    "# Mod: añadir metrics a las variables de entrada de esta función"
   ]
  },
  {
   "cell_type": "markdown",
   "id": "f41f4ef6",
   "metadata": {},
   "source": [
    "Seleccionar hiperparámetros\n",
    "\n",
    "- Notar que las dimensiones de HP_UNITS_HL, HP_RATES_DL y HP_ACTIVATIONS, deben ser iguales "
   ]
  },
  {
   "cell_type": "code",
   "execution_count": 15,
   "id": "d8789d7c",
   "metadata": {},
   "outputs": [
    {
     "data": {
      "text/html": [
       "<pre style=\"white-space:pre;overflow-x:auto;line-height:normal;font-family:Menlo,'DejaVu Sans Mono',consolas,'Courier New',monospace\"><span style=\"font-weight: bold\">Model: \"TA3_encoder\"</span>\n",
       "</pre>\n"
      ],
      "text/plain": [
       "\u001b[1mModel: \"TA3_encoder\"\u001b[0m\n"
      ]
     },
     "metadata": {},
     "output_type": "display_data"
    },
    {
     "data": {
      "text/html": [
       "<pre style=\"white-space:pre;overflow-x:auto;line-height:normal;font-family:Menlo,'DejaVu Sans Mono',consolas,'Courier New',monospace\">┏━━━━━━━━━━━━━━━━━━━━━━━━━━━━━━━━━┳━━━━━━━━━━━━━━━━━━━━━━━━┳━━━━━━━━━━━━━━━┓\n",
       "┃<span style=\"font-weight: bold\"> Layer (type)                    </span>┃<span style=\"font-weight: bold\"> Output Shape           </span>┃<span style=\"font-weight: bold\">       Param # </span>┃\n",
       "┡━━━━━━━━━━━━━━━━━━━━━━━━━━━━━━━━━╇━━━━━━━━━━━━━━━━━━━━━━━━╇━━━━━━━━━━━━━━━┩\n",
       "│ Hidden_1 (<span style=\"color: #0087ff; text-decoration-color: #0087ff\">Dense</span>)                │ (<span style=\"color: #00d7ff; text-decoration-color: #00d7ff\">None</span>, <span style=\"color: #00af00; text-decoration-color: #00af00\">64</span>)             │         <span style=\"color: #00af00; text-decoration-color: #00af00\">4,288</span> │\n",
       "├─────────────────────────────────┼────────────────────────┼───────────────┤\n",
       "│ Hidden_2 (<span style=\"color: #0087ff; text-decoration-color: #0087ff\">Dense</span>)                │ (<span style=\"color: #00d7ff; text-decoration-color: #00d7ff\">None</span>, <span style=\"color: #00af00; text-decoration-color: #00af00\">32</span>)             │         <span style=\"color: #00af00; text-decoration-color: #00af00\">2,080</span> │\n",
       "├─────────────────────────────────┼────────────────────────┼───────────────┤\n",
       "│ Hidden_3 (<span style=\"color: #0087ff; text-decoration-color: #0087ff\">Dense</span>)                │ (<span style=\"color: #00d7ff; text-decoration-color: #00d7ff\">None</span>, <span style=\"color: #00af00; text-decoration-color: #00af00\">16</span>)             │           <span style=\"color: #00af00; text-decoration-color: #00af00\">528</span> │\n",
       "├─────────────────────────────────┼────────────────────────┼───────────────┤\n",
       "│ Hidden_4 (<span style=\"color: #0087ff; text-decoration-color: #0087ff\">Dense</span>)                │ (<span style=\"color: #00d7ff; text-decoration-color: #00d7ff\">None</span>, <span style=\"color: #00af00; text-decoration-color: #00af00\">8</span>)              │           <span style=\"color: #00af00; text-decoration-color: #00af00\">136</span> │\n",
       "├─────────────────────────────────┼────────────────────────┼───────────────┤\n",
       "│ Dropout_4 (<span style=\"color: #0087ff; text-decoration-color: #0087ff\">Dropout</span>)             │ (<span style=\"color: #00d7ff; text-decoration-color: #00d7ff\">None</span>, <span style=\"color: #00af00; text-decoration-color: #00af00\">8</span>)              │             <span style=\"color: #00af00; text-decoration-color: #00af00\">0</span> │\n",
       "├─────────────────────────────────┼────────────────────────┼───────────────┤\n",
       "│ Output_Layer (<span style=\"color: #0087ff; text-decoration-color: #0087ff\">Dense</span>)            │ (<span style=\"color: #00d7ff; text-decoration-color: #00d7ff\">None</span>, <span style=\"color: #00af00; text-decoration-color: #00af00\">1</span>)              │             <span style=\"color: #00af00; text-decoration-color: #00af00\">9</span> │\n",
       "└─────────────────────────────────┴────────────────────────┴───────────────┘\n",
       "</pre>\n"
      ],
      "text/plain": [
       "┏━━━━━━━━━━━━━━━━━━━━━━━━━━━━━━━━━┳━━━━━━━━━━━━━━━━━━━━━━━━┳━━━━━━━━━━━━━━━┓\n",
       "┃\u001b[1m \u001b[0m\u001b[1mLayer (type)                   \u001b[0m\u001b[1m \u001b[0m┃\u001b[1m \u001b[0m\u001b[1mOutput Shape          \u001b[0m\u001b[1m \u001b[0m┃\u001b[1m \u001b[0m\u001b[1m      Param #\u001b[0m\u001b[1m \u001b[0m┃\n",
       "┡━━━━━━━━━━━━━━━━━━━━━━━━━━━━━━━━━╇━━━━━━━━━━━━━━━━━━━━━━━━╇━━━━━━━━━━━━━━━┩\n",
       "│ Hidden_1 (\u001b[38;5;33mDense\u001b[0m)                │ (\u001b[38;5;45mNone\u001b[0m, \u001b[38;5;34m64\u001b[0m)             │         \u001b[38;5;34m4,288\u001b[0m │\n",
       "├─────────────────────────────────┼────────────────────────┼───────────────┤\n",
       "│ Hidden_2 (\u001b[38;5;33mDense\u001b[0m)                │ (\u001b[38;5;45mNone\u001b[0m, \u001b[38;5;34m32\u001b[0m)             │         \u001b[38;5;34m2,080\u001b[0m │\n",
       "├─────────────────────────────────┼────────────────────────┼───────────────┤\n",
       "│ Hidden_3 (\u001b[38;5;33mDense\u001b[0m)                │ (\u001b[38;5;45mNone\u001b[0m, \u001b[38;5;34m16\u001b[0m)             │           \u001b[38;5;34m528\u001b[0m │\n",
       "├─────────────────────────────────┼────────────────────────┼───────────────┤\n",
       "│ Hidden_4 (\u001b[38;5;33mDense\u001b[0m)                │ (\u001b[38;5;45mNone\u001b[0m, \u001b[38;5;34m8\u001b[0m)              │           \u001b[38;5;34m136\u001b[0m │\n",
       "├─────────────────────────────────┼────────────────────────┼───────────────┤\n",
       "│ Dropout_4 (\u001b[38;5;33mDropout\u001b[0m)             │ (\u001b[38;5;45mNone\u001b[0m, \u001b[38;5;34m8\u001b[0m)              │             \u001b[38;5;34m0\u001b[0m │\n",
       "├─────────────────────────────────┼────────────────────────┼───────────────┤\n",
       "│ Output_Layer (\u001b[38;5;33mDense\u001b[0m)            │ (\u001b[38;5;45mNone\u001b[0m, \u001b[38;5;34m1\u001b[0m)              │             \u001b[38;5;34m9\u001b[0m │\n",
       "└─────────────────────────────────┴────────────────────────┴───────────────┘\n"
      ]
     },
     "metadata": {},
     "output_type": "display_data"
    },
    {
     "data": {
      "text/html": [
       "<pre style=\"white-space:pre;overflow-x:auto;line-height:normal;font-family:Menlo,'DejaVu Sans Mono',consolas,'Courier New',monospace\"><span style=\"font-weight: bold\"> Total params: </span><span style=\"color: #00af00; text-decoration-color: #00af00\">7,041</span> (27.50 KB)\n",
       "</pre>\n"
      ],
      "text/plain": [
       "\u001b[1m Total params: \u001b[0m\u001b[38;5;34m7,041\u001b[0m (27.50 KB)\n"
      ]
     },
     "metadata": {},
     "output_type": "display_data"
    },
    {
     "data": {
      "text/html": [
       "<pre style=\"white-space:pre;overflow-x:auto;line-height:normal;font-family:Menlo,'DejaVu Sans Mono',consolas,'Courier New',monospace\"><span style=\"font-weight: bold\"> Trainable params: </span><span style=\"color: #00af00; text-decoration-color: #00af00\">7,041</span> (27.50 KB)\n",
       "</pre>\n"
      ],
      "text/plain": [
       "\u001b[1m Trainable params: \u001b[0m\u001b[38;5;34m7,041\u001b[0m (27.50 KB)\n"
      ]
     },
     "metadata": {},
     "output_type": "display_data"
    },
    {
     "data": {
      "text/html": [
       "<pre style=\"white-space:pre;overflow-x:auto;line-height:normal;font-family:Menlo,'DejaVu Sans Mono',consolas,'Courier New',monospace\"><span style=\"font-weight: bold\"> Non-trainable params: </span><span style=\"color: #00af00; text-decoration-color: #00af00\">0</span> (0.00 B)\n",
       "</pre>\n"
      ],
      "text/plain": [
       "\u001b[1m Non-trainable params: \u001b[0m\u001b[38;5;34m0\u001b[0m (0.00 B)\n"
      ]
     },
     "metadata": {},
     "output_type": "display_data"
    }
   ],
   "source": [
    "# Hiperparameters\n",
    "HP_INPUT_SHAPE = X_train_scaled.shape[1]\n",
    "HP_UNITS_HL = [64, 32, 16, 8]                      # Units for each layer\n",
    "HP_RATES_DL = [0.3, 0.2, 0.1, 0.05]                       # Dropout Rates\n",
    "HP_ACTIVATION = ['relu', 'tanh', 'relu', 'relu']            # Activation functions\n",
    "HP_ACTIVATION_OUTPUT = 'linear'\n",
    "HP_LOSS = 'mse'                                 # Loss function\n",
    "HP_OPTIMIZER = 'adam'                           # Optimizer\n",
    "HP_LR = 1.5e-3                                    # Learning rate\n",
    "HP_EPOCHS = 350                                 # Epochs\n",
    "HP_BATCH_SIZE = 144                               # Batch size\n",
    "\n",
    "# Build the model\n",
    "model = build_fnn_model(\n",
    "    input_shape=HP_INPUT_SHAPE,\n",
    "    units_hl=HP_UNITS_HL,\n",
    "    rates_dl=HP_RATES_DL,\n",
    "    activation=HP_ACTIVATION,\n",
    "    output_activation=HP_ACTIVATION_OUTPUT,\n",
    "    optimizer_name=HP_OPTIMIZER,\n",
    "    learning_rate=HP_LR,\n",
    "    loss_function=HP_LOSS\n",
    ")\n",
    "\n",
    "# Change name and print summary, it's saved later folder\n",
    "model.name = 'TA3_encoder' \n",
    "model.summary()"
   ]
  },
  {
   "cell_type": "markdown",
   "id": "0f9ab9c4",
   "metadata": {},
   "source": [
    "Entrenamiento"
   ]
  },
  {
   "cell_type": "code",
   "execution_count": 16,
   "id": "e90be9b5",
   "metadata": {},
   "outputs": [
    {
     "name": "stdout",
     "output_type": "stream",
     "text": [
      "\n",
      "Starting model training...\n",
      "Training finished.\n"
     ]
    }
   ],
   "source": [
    "print(\"\\nStarting model training...\")\n",
    "\n",
    "# Definir checkpoint para guardar el mejor modelo (i.e., el que presente mejor métrica [metrics])\n",
    "cp = ModelCheckpoint(model.name+'.keras', save_best_only=True)\n",
    "\n",
    "history = model.fit(\n",
    "    X_train_scaled, y_train,\n",
    "    epochs=HP_EPOCHS,\n",
    "    batch_size=HP_BATCH_SIZE,\n",
    "    validation_data=(X_val_scaled, y_val),\n",
    "    verbose=0,\n",
    "    callbacks=[cp]\n",
    ")\n",
    "\n",
    "print(\"Training finished.\")"
   ]
  },
  {
   "cell_type": "markdown",
   "id": "a8132dcf",
   "metadata": {},
   "source": [
    "Evaluación sobre el grupo de validación"
   ]
  },
  {
   "cell_type": "code",
   "execution_count": 18,
   "id": "eb297b38",
   "metadata": {},
   "outputs": [
    {
     "name": "stdout",
     "output_type": "stream",
     "text": [
      "\u001b[1m938/938\u001b[0m \u001b[32m━━━━━━━━━━━━━━━━━━━━\u001b[0m\u001b[37m\u001b[0m \u001b[1m1s\u001b[0m 1ms/step\n",
      "Val Loss (MSE): 0.0418\n",
      "Val MAE: 0.0849\n",
      "Val R2: 0.9105\n"
     ]
    }
   ],
   "source": [
    "# Evaluar validación usando las mismas métricas del modelo\n",
    "loss_val_final, mae_val_final = model.evaluate(X_val_scaled, y_val, verbose=0)\n",
    "y_pred = model.predict(X_val_scaled)\n",
    "R2_val = r2_score(y_val, y_pred)\n",
    "\n",
    "# Guardar función de pérdida en entrenamiento y validación\n",
    "train_losses = history.history['loss'] \n",
    "val_losses = history.history['val_loss']\n",
    "\n",
    "print(f\"Val Loss (MSE): {loss_val_final:.4f}\\nVal MAE: {mae_val_final:.4f}\\nVal R2: {R2_val:.4f}\")"
   ]
  },
  {
   "cell_type": "markdown",
   "id": "9e5d040a",
   "metadata": {},
   "source": [
    "Save data in a folder\n",
    "\n",
    "- Ajustar fontsize en todas las gráficas\n",
    "- Quizás incluir el tiempo de entrenamiento"
   ]
  },
  {
   "cell_type": "code",
   "execution_count": null,
   "id": "cc945e85",
   "metadata": {},
   "outputs": [
    {
     "name": "stdout",
     "output_type": "stream",
     "text": [
      "\n",
      "Guardando resultados críticos en: 'Resultados/TA3_encoder'\n",
      "- README.md (Descripción) guardado.\n"
     ]
    },
    {
     "data": {
      "text/html": [
       "<pre style=\"white-space:pre;overflow-x:auto;line-height:normal;font-family:Menlo,'DejaVu Sans Mono',consolas,'Courier New',monospace\"></pre>\n"
      ],
      "text/plain": []
     },
     "metadata": {},
     "output_type": "display_data"
    },
    {
     "name": "stdout",
     "output_type": "stream",
     "text": [
      "Métricas guardadas en metrics.csv\n",
      "Momentos de PredVal y TrueVal guardados en moments.csv\n",
      "Gráfica de Pérdida guardada en train_val_loss.png\n",
      "Gráfica TrueVal vs PredVal guardada en ValScatter.png\n",
      "Gráfica KDE de residuos guardada en KDE_residuos.png\n",
      "\n",
      "Proceso finalizado.\n"
     ]
    }
   ],
   "source": [
    "# Solicitar el nombre del directorio de salida\n",
    "model_name = model.name\n",
    "folder_name = input(\"Output folder name: \")             # Double check\n",
    "\n",
    "# Definir la ruta base: Resultados/NOMBRE_DEL_MODELO\n",
    "BASE_PATH = os.path.join('Resultados', folder_name)\n",
    "os.makedirs(BASE_PATH, exist_ok=False)      # para evitar sobreescribir \n",
    "\n",
    "print(f\"\\nGuardando resultados críticos en: '{BASE_PATH}'\")\n",
    "\n",
    "# 1. Archivo de Descripción (README)\n",
    "readme_content = f\"\"\"# Registro del Experimento: {model_name}\n",
    "\n",
    "## Configuración Principal\n",
    "- Neuronas:              {HP_UNITS_HL}\n",
    "- Activaciones:          {HP_ACTIVATION}\n",
    "- Dropouts:              {HP_RATES_DL}                      \n",
    "- Estandarizacion:       {scaler_name}\n",
    "- Nombre del Modelo:     {model_name}\n",
    "- Loss:                  {HP_LOSS}\n",
    "- Semilla global:        {SEED}\n",
    "- Data entrada:          {path_to_data}\n",
    "- Dimensión de Entrada:  {X_train_scaled.shape}\n",
    "- Split (train% - val%): ({1-val_p-test_p}-{val_p})\n",
    "- Epoch:                 {HP_EPOCHS}\n",
    "- Bach_size:             {HP_BATCH_SIZE}\n",
    "- Optimizador:           {HP_OPTIMIZER} \n",
    "- Learn_rate:            {HP_LR}\n",
    "\"\"\"\n",
    "\n",
    "# Guardar README en la carpeta del modelo\n",
    "with open(os.path.join(BASE_PATH, 'README.md'), 'w') as f:\n",
    "    f.write(readme_content)\n",
    "print(\"- README.md (Descripción) guardado.\")\n",
    "\n",
    "# Guardar summary \n",
    "def write_summary_to_file(s):\n",
    "    with open(os.path.join(BASE_PATH, 'model_summary.txt'), 'a') as f:  \n",
    "        f.write(s + '\\n')\n",
    "\n",
    "model.summary(print_fn=write_summary_to_file)        \n",
    "\n",
    "# Resultados (Métricas) sobre el grupo de validación\n",
    "results_data = {\n",
    "    'Metric': ['RMSE', 'MSE', 'MAE', 'R2'],\n",
    "    'Value': [np.sqrt(loss_val_final), loss_val_final, mae_val_final, R2_val]          \n",
    "}\n",
    "results_df = pd.DataFrame(results_data)\n",
    "\n",
    "# Guardar CSV de métricas en la carpeta del modelo\n",
    "results_df.to_csv(os.path.join(BASE_PATH, 'metrics.csv'), index=False)\n",
    "print(\"Métricas guardadas en metrics.csv\")\n",
    "\n",
    "# Momentos sobre grupo de validación\n",
    "y_pred = pd.Series(y_pred.flatten())        # Para poder aplicar momentos\n",
    "moments_val = [y_val.mean(),y_val.var(),y_val.skew(),y_val.kurt()]\n",
    "moments_pred = [y_pred.mean(),y_pred.var(),y_pred.skew(),y_pred.kurt()]\n",
    "\n",
    "## Crer dataframe con los momentos\n",
    "moments_df = pd.DataFrame([moments_val, moments_pred], \n",
    "                          columns=['Mean', 'Variance', 'Skewness', 'Kurtosis'], \n",
    "                          index=['TrueVal z', 'PredVal z'])\n",
    "\n",
    "moments_df.to_csv(os.path.join(BASE_PATH, 'moments.csv'), index=False)\n",
    "print(\"Momentos de PredVal y TrueVal guardados en moments.csv\")\n",
    "\n",
    "##### GRÁFICAS ####\n",
    "fs = 13                       # fontsize\n",
    "\n",
    "#####\n",
    "## Gráfica de Entrenamiento (Train/Val Loss)\n",
    "plt.figure(figsize=(10, 6))\n",
    "plt.plot(train_losses, label='Train Loss')\n",
    "plt.plot(val_losses, label='Validation Loss')\n",
    "plt.title('Pérdida de Entrenamiento y Validación por Época', fontsize=fs)\n",
    "plt.xlabel('Época', fontsize=fs)\n",
    "plt.ylabel(f'Pérdida {HP_LOSS}', fontsize=fs)\n",
    "plt.legend()\n",
    "plt.grid(linestyle='--')\n",
    "plt.savefig(os.path.join(BASE_PATH, 'train_val_loss.png'), dpi=300)\n",
    "plt.close()\n",
    "print(\"Gráfica de Pérdida guardada en train_val_loss.png\")\n",
    "\n",
    "\n",
    "#####\n",
    "## Gráfica de dispersión True vs Pred sobre el grupo de validación\n",
    "fig, ax = plt.subplots(figsize=(10, 6))\n",
    "\n",
    "ax.scatter(y_val, y_pred, alpha=.2)         \n",
    "ax.plot([0,7], [0, 7],linestyle='--', color='k')\n",
    "ax.set_xlabel('TrueVal z', fontsize=fs)\n",
    "ax.set_ylabel('PredVal z', fontsize=fs)\n",
    "ax.set_title(model_name, fontsize=fs)\n",
    "\n",
    "ax.text(1.9, 6.5, f'MSE_test= {round(loss_val_final,4)}\\nMAE_test= {round(mae_val_final,4)}\\nR2_test=  {round(R2_val,4)}',\n",
    "        horizontalalignment='center',\n",
    "        verticalalignment='center',\n",
    "        bbox=dict(facecolor='yellow', alpha=0.5, boxstyle='round,pad=0.5'))\n",
    "\n",
    "plt.grid(linestyle='--')\n",
    "plt.savefig(os.path.join(BASE_PATH, 'ValScatter.png'), dpi=300)\n",
    "plt.close()\n",
    "print(\"Gráfica TrueVal vs PredVal guardada en ValScatter.png\")\n",
    "\n",
    "\n",
    "#####\n",
    "## Gráfica de Distribución de Residuos (Histograma/KDE)\n",
    "residuals = y_pred-y_val\n",
    "\n",
    "plt.figure(figsize=(8, 5))\n",
    "sns.kdeplot(residuals, color='purple',fill=True, alpha=0.5)\n",
    "plt.title('KDE residuos sobre ValidationSet', fontsize=fs)\n",
    "plt.xlabel('Residuos (pred-true)', fontsize=fs)\n",
    "plt.ylabel('KDE', fontsize=fs)\n",
    "plt.axvline(x=0, color='k', linestyle='--')\n",
    "plt.grid(linestyle='--')\n",
    "plt.savefig(os.path.join(BASE_PATH, 'KDE_residuos.png'), dpi=300)\n",
    "plt.close()\n",
    "print(\"Gráfica KDE de residuos guardada en KDE_residuos.png\")\n",
    "\n",
    "print(\"\\nProceso finalizado.\")\n",
    "     \n",
    "# Quizás agregar algún violin or box plot"
   ]
  },
  {
   "cell_type": "code",
   "execution_count": null,
   "id": "127da0f3",
   "metadata": {},
   "outputs": [],
   "source": []
  }
 ],
 "metadata": {
  "kernelspec": {
   "display_name": "neural-nets",
   "language": "python",
   "name": "python3"
  },
  "language_info": {
   "codemirror_mode": {
    "name": "ipython",
    "version": 3
   },
   "file_extension": ".py",
   "mimetype": "text/x-python",
   "name": "python",
   "nbconvert_exporter": "python",
   "pygments_lexer": "ipython3",
   "version": "3.13.7"
  }
 },
 "nbformat": 4,
 "nbformat_minor": 5
}
